{
 "cells": [
  {
   "cell_type": "markdown",
   "id": "e74c2fab",
   "metadata": {},
   "source": [
    "### Importing libraries and dataset "
   ]
  },
  {
   "cell_type": "code",
   "execution_count": 4,
   "id": "2ff26bed",
   "metadata": {},
   "outputs": [],
   "source": [
    "import networkx as nx\n",
    "import matplotlib.pyplot as plt\n",
    "\n",
    "# import the data in undirected graph format\n",
    "coauthor_graph = nx.read_edgelist('Q12.txt')\n",
    "\n",
    "# removing selfloops from graph making the graph simple\n",
    "coauthor_graph.remove_edges_from(nx.selfloop_edges(coauthor_graph))"
   ]
  },
  {
   "cell_type": "markdown",
   "id": "475db5d8",
   "metadata": {},
   "source": [
    "### Coathor utility function"
   ]
  },
  {
   "cell_type": "code",
   "execution_count": 5,
   "id": "9fe44dd9",
   "metadata": {},
   "outputs": [],
   "source": [
    "def coauthor_utility_func(n, m, graph):\n",
    "    return (1/graph.degree(n)) + (1/graph.degree(m)) + (1/(graph.degree(n) * graph.degree(m)))"
   ]
  },
  {
   "cell_type": "markdown",
   "id": "b557ac2b",
   "metadata": {},
   "source": [
    "### Finding utility value for all nodes"
   ]
  },
  {
   "cell_type": "code",
   "execution_count": 7,
   "id": "cf3e6fef",
   "metadata": {},
   "outputs": [],
   "source": [
    "def find_node_utility(n, graph):\n",
    "    node_utility = 0\n",
    "    for m in graph.neighbors(n):\n",
    "        node_utility = node_utility + coauthor_utility_func(n, m, graph)\n",
    "    return node_utility"
   ]
  },
  {
   "cell_type": "code",
   "execution_count": 8,
   "id": "30e47899",
   "metadata": {},
   "outputs": [
    {
     "data": {
      "image/png": "[encoded data removed]",
      "text/plain": [
       "<Figure size 432x288 with 1 Axes>"
      ]
     },
     "metadata": {
      "needs_background": "light"
     },
     "output_type": "display_data"
    }
   ],
   "source": [
    "# for each node, find node utility with the aforementioned functions\n",
    "nodes_utilities = []\n",
    "for n in coauthor_graph.nodes:\n",
    "    node_utility = find_node_utility(n, coauthor_graph)\n",
    "    nodes_utilities.append(node_utility)\n",
    "    \n",
    "# Visualizing node utility distribution\n",
    "plt.hist(nodes_utilities)\n",
    "plt.xlabel(\"node utility\")\n",
    "plt.ylabel(\"frequency\")\n",
    "plt.title(\"node utility distribution\")\n",
    "plt.show()"
   ]
  },
  {
   "cell_type": "code",
   "execution_count": 9,
   "id": "065ab8e9",
   "metadata": {},
   "outputs": [
    {
     "name": "stdout",
     "output_type": "stream",
     "text": [
      "sum of node's utility in graph to efficient one = 0.76\n"
     ]
    }
   ],
   "source": [
    "sum_of_all_nodes_utilities = sum(nodes_utilities)\n",
    "sum_of_all_nodes_utilities_efficient = 3 * len(coauthor_graph.nodes)\n",
    "ratio = sum_of_all_nodes_utilities / sum_of_all_nodes_utilities_efficient\n",
    "print(\"sum of node's utility in graph to efficient one = \" + str(round(ratio,2)))"
   ]
  },
  {
   "cell_type": "markdown",
   "id": "046b6084",
   "metadata": {},
   "source": [
    "### Degree distribution for nodes"
   ]
  },
  {
   "cell_type": "code",
   "execution_count": 10,
   "id": "18e8ce16",
   "metadata": {},
   "outputs": [
    {
     "data": {
      "image/png": "[encoded data removed]",
      "text/plain": [
       "<Figure size 432x288 with 1 Axes>"
      ]
     },
     "metadata": {
      "needs_background": "light"
     },
     "output_type": "display_data"
    }
   ],
   "source": [
    "def plot_degree_dist(G):\n",
    "    degrees = [G.degree(n) for n in G.nodes()]\n",
    "    plt.hist(degrees)\n",
    "    plt.xlabel(\"node degree\")\n",
    "    plt.ylabel(\"frequency\")\n",
    "    plt.title(\"node degree distribution\")\n",
    "    plt.show()\n",
    "\n",
    "plot_degree_dist(coauthor_graph)"
   ]
  },
  {
   "cell_type": "markdown",
   "id": "7e4e3adc",
   "metadata": {},
   "source": [
    "### Max node's neighbor degree distribution"
   ]
  },
  {
   "cell_type": "code",
   "execution_count": 11,
   "id": "fab535cc",
   "metadata": {},
   "outputs": [
    {
     "data": {
      "image/png": "[encoded data removed]",
      "text/plain": [
       "<Figure size 432x288 with 1 Axes>"
      ]
     },
     "metadata": {
      "needs_background": "light"
     },
     "output_type": "display_data"
    }
   ],
   "source": [
    "nodes_neighbors_most_degree = []\n",
    "\n",
    "# for each node we save its neighbors in a list. then we run throught each of them and\n",
    "# save their degrees in a list. then we find max of degrees.\n",
    "for node in coauthor_graph:\n",
    "    list_of_neighbors = [n for n in coauthor_graph.neighbors(node)]\n",
    "    list_of_neighbors_degrees = [coauthor_graph.degree(n) for n in list_of_neighbors]\n",
    "    if len(list_of_neighbors_degrees) != 0:\n",
    "        nodes_neighbors_most_degree.append(max(list_of_neighbors_degrees))\n",
    "    else:\n",
    "        continue\n",
    "    \n",
    "plt.hist(nodes_neighbors_most_degree)\n",
    "plt.xlabel(\"max node's neighbor degree\")\n",
    "plt.ylabel(\"frequency\")\n",
    "plt.title(\"max node's neighbor degree distribution\")\n",
    "plt.show()"
   ]
  },
  {
   "cell_type": "markdown",
   "id": "f9b6a00b",
   "metadata": {},
   "source": [
    "### Number of stable edges"
   ]
  },
  {
   "cell_type": "code",
   "execution_count": null,
   "id": "2e663f4c",
   "metadata": {},
   "outputs": [],
   "source": [
    "def is_edge_stable(edge, graph):\n",
    "    n = edge[0]\n",
    "    m = edge[1]\n",
    "    n_prev_utility = find_node_utility(n, graph)\n",
    "    m_prev_utility = find_node_utility(m, graph)\n",
    "    graph_prime = graph.copy()\n",
    "    graph_prime.remove_edge(n, m)\n",
    "    n_new_utility = find_node_utility(n, graph_prime)\n",
    "    m_new_utility = find_node_utility(m, graph_prime)\n",
    "    return 0 if (n_new_utility > n_prev_utility) and (m_new_utility > m_prev_utility) else 1"
   ]
  },
  {
   "cell_type": "code",
   "execution_count": null,
   "id": "eeda7049",
   "metadata": {},
   "outputs": [],
   "source": [
    "stable_edges = 0\n",
    "\n",
    "for e in coauthor_graph.edges:\n",
    "    stable_edges = stable_edges + is_edge_stable(e, coauthor_graph)\n",
    "\n",
    "print(\"Number of stable edges = \"+ str(stable_edges))"
   ]
  },
  {
   "cell_type": "markdown",
   "id": "8455a146",
   "metadata": {},
   "source": [
    "### Fraction of welcome edges"
   ]
  },
  {
   "cell_type": "code",
   "execution_count": null,
   "id": "962fb8a6",
   "metadata": {},
   "outputs": [],
   "source": [
    "def is_edge_welcome(edge, graph):\n",
    "    n = edge[0]\n",
    "    m = edge[1]\n",
    "    n_prev_utility = find_node_utility(n, graph)\n",
    "    m_prev_utility = find_node_utility(m, graph)\n",
    "    graph_prime = graph.copy()\n",
    "    graph_prime.add_edge(n, m)\n",
    "    n_new_utility = find_node_utility(n, graph_prime)\n",
    "    m_new_utility = find_node_utility(m, graph_prime)\n",
    "    return 1 if ((n_new_utility > n_prev_utility) and (m_new_utility >= m_prev_utility) or\n",
    "                 (n_new_utility >= n_prev_utility) and (m_new_utility > m_prev_utility)) else 0"
   ]
  },
  {
   "cell_type": "code",
   "execution_count": null,
   "id": "091632a0",
   "metadata": {},
   "outputs": [],
   "source": [
    "welcome_edges = 0\n",
    "\n",
    "for e in nx.non_edges(coauthor_graph):\n",
    "    welcome_edges = welcome_edges + is_edge_welcome(e, coauthor_graph)\n",
    "\n",
    "print(\"fraction of welcome edges = \"+ str(welcome_edges/coauthor_graph.number_of_edges()))"
   ]
  }
 ],
 "metadata": {
  "kernelspec": {
   "display_name": "Python 3",
   "language": "python",
   "name": "python3"
  },
  "language_info": {
   "codemirror_mode": {
    "name": "ipython",
    "version": 3
   },
   "file_extension": ".py",
   "mimetype": "text/x-python",
   "name": "python",
   "nbconvert_exporter": "python",
   "pygments_lexer": "ipython3",
   "version": "3.9.1"
  }
 },
 "nbformat": 4,
 "nbformat_minor": 5
}
